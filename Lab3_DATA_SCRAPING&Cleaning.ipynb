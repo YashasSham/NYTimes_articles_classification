{
 "cells": [
  {
   "cell_type": "code",
   "execution_count": 63,
   "metadata": {},
   "outputs": [],
   "source": [
    "####################NYTimes Data#####################################################\n",
    "\n",
    "from nytimesarticle import articleAPI\n",
    "import json\n",
    "api = articleAPI('bd15b09ac67c4ad3a92d5167f820dded')\n",
    "\n",
    "articleSearchWord = 'Amazon'\n",
    "\n",
    "all_articles = []\n",
    "articles = []\n",
    "for i in range(0,100):\n",
    "    articles.append(api.search( q = articleSearchWord,page = i, begin_date = 20180305, end_date = 20180511))"
   ]
  },
  {
   "cell_type": "code",
   "execution_count": 64,
   "metadata": {},
   "outputs": [],
   "source": [
    "####################urls being written to a file#####################################################\n",
    "with open(\"url.txt\", \"a\") as myfile:\n",
    "    for x in articles:\n",
    "        if 'response' in x.keys():\n",
    "            for j in x['response']['docs']:\n",
    "                myfile.write('\\n'+j['web_url'])\n",
    "            "
   ]
  },
  {
   "cell_type": "code",
   "execution_count": 97,
   "metadata": {},
   "outputs": [],
   "source": [
    "####################web scraping#####################################################\n",
    "datalist=[]\n",
    "with open('url.txt') as f:\n",
    "    for line in f:\n",
    "        stringBuilder = \"\"\n",
    "        page = requests.get(line)\n",
    "        soup = BeautifulSoup(page.content, 'html.parser')\n",
    "        for text in soup.findAll('p'):\n",
    "            if not text.string is None:\n",
    "                stringBuilder += text.string\n",
    "        if any(x in line for x in ['sports']):\n",
    "            datalist.append({'Text':stringBuilder,'Category':'Sports'})\n",
    "        elif 'science' in line or 'technology' in line:\n",
    "            datalist.append({'Text':stringBuilder,'Category':'Science And Technology'})\n",
    "        elif 'fashion' in line or 'music' in line or 'movies' in line or 'arts' in line:\n",
    "            datalist.append({'Text':stringBuilder,'Category':'Entertainment'})\n",
    "        elif 'politics' in line:\n",
    "            datalist.append({'Text':stringBuilder,'Category':'Politics'})\n",
    "        elif 'business' in line:\n",
    "            datalist.append({'Text':stringBuilder,'Category':'Business'})\n",
    "        "
   ]
  },
  {
   "cell_type": "code",
   "execution_count": 104,
   "metadata": {},
   "outputs": [],
   "source": [
    "import pandas\n",
    "dataSet = pandas.DataFrame(datalist)"
   ]
  },
  {
   "cell_type": "code",
   "execution_count": 120,
   "metadata": {},
   "outputs": [],
   "source": [
    "dataSet.to_csv('output.csv',index = False)"
   ]
  }
 ],
 "metadata": {
  "kernelspec": {
   "display_name": "Python 3",
   "language": "python",
   "name": "python3"
  },
  "language_info": {
   "codemirror_mode": {
    "name": "ipython",
    "version": 3
   },
   "file_extension": ".py",
   "mimetype": "text/x-python",
   "name": "python",
   "nbconvert_exporter": "python",
   "pygments_lexer": "ipython3",
   "version": "3.5.4"
  }
 },
 "nbformat": 4,
 "nbformat_minor": 2
}
